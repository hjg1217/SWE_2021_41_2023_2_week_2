{
  "nbformat": 4,
  "nbformat_minor": 0,
  "metadata": {
    "colab": {
      "provenance": [],
      "gpuType": "T4"
    },
    "kernelspec": {
      "name": "python3",
      "display_name": "Python 3"
    },
    "language_info": {
      "name": "python"
    },
    "accelerator": "GPU"
  },
  "cells": [
    {
      "cell_type": "code",
      "execution_count": null,
      "metadata": {
        "colab": {
          "base_uri": "https://localhost:8080/"
        },
        "id": "-HDUz-ObIGui",
        "outputId": "3d7a69f7-b6bc-45aa-c09b-33b116ccdfae"
      },
      "outputs": [
        {
          "output_type": "stream",
          "name": "stdout",
          "text": [
            "Hello world\n"
          ]
        }
      ],
      "source": [
        "temp = []\n",
        "def isHappy(n):\n",
        "  if n == 1:\n",
        "    return True\n",
        "  elif n in temp:\n",
        "    return False\n",
        "  else:\n",
        "    temp.append(n)\n",
        "\n",
        "\n",
        "  result = 0\n",
        "  while n > 0:\n",
        "    result += (n%10) * (n%10)\n",
        "    n //= 10\n",
        "\n",
        "  if result != 1:\n",
        "    return isHappy(result)\n",
        "  elif result == 1:\n",
        "    return True\n"
      ]
    }
  ]
}